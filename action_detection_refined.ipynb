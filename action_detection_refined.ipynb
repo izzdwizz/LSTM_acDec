{
 "cells": [
  {
   "cell_type": "markdown",
   "metadata": {},
   "source": [
    "# 1. Import and Install Dependencies"
   ]
  },
  {
   "cell_type": "code",
   "execution_count": 3,
   "metadata": {
    "scrolled": false
   },
   "outputs": [
    {
     "name": "stdout",
     "output_type": "stream",
     "text": [
      "Requirement already satisfied: tensorflow==2.4.1 in c:\\users\\user\\anaconda3\\lib\\site-packages (2.4.1)\n",
      "Requirement already satisfied: opencv-python in c:\\users\\user\\anaconda3\\lib\\site-packages (4.5.3.56)\n",
      "Requirement already satisfied: mediapipe in c:\\users\\user\\anaconda3\\lib\\site-packages (0.8.7.1)\n",
      "Requirement already satisfied: sklearn in c:\\users\\user\\anaconda3\\lib\\site-packages (0.0)\n",
      "Requirement already satisfied: matplotlib in c:\\users\\user\\anaconda3\\lib\\site-packages (3.3.4)\n",
      "Requirement already satisfied: six~=1.15.0 in c:\\users\\user\\anaconda3\\lib\\site-packages (from tensorflow==2.4.1) (1.15.0)\n",
      "Requirement already satisfied: tensorflow-estimator<2.5.0,>=2.4.0 in c:\\users\\user\\anaconda3\\lib\\site-packages (from tensorflow==2.4.1) (2.4.0)\n",
      "Requirement already satisfied: h5py~=2.10.0 in c:\\users\\user\\anaconda3\\lib\\site-packages (from tensorflow==2.4.1) (2.10.0)\n",
      "Requirement already satisfied: protobuf>=3.9.2 in c:\\users\\user\\anaconda3\\lib\\site-packages (from tensorflow==2.4.1) (3.17.3)\n",
      "Requirement already satisfied: keras-preprocessing~=1.1.2 in c:\\users\\user\\anaconda3\\lib\\site-packages (from tensorflow==2.4.1) (1.1.2)\n",
      "Requirement already satisfied: numpy~=1.19.2 in c:\\users\\user\\anaconda3\\lib\\site-packages (from tensorflow==2.4.1) (1.19.5)\n",
      "Requirement already satisfied: gast==0.3.3 in c:\\users\\user\\anaconda3\\lib\\site-packages (from tensorflow==2.4.1) (0.3.3)\n",
      "Requirement already satisfied: flatbuffers~=1.12.0 in c:\\users\\user\\anaconda3\\lib\\site-packages (from tensorflow==2.4.1) (1.12)\n",
      "Requirement already satisfied: termcolor~=1.1.0 in c:\\users\\user\\anaconda3\\lib\\site-packages (from tensorflow==2.4.1) (1.1.0)\n",
      "Requirement already satisfied: tensorboard~=2.4 in c:\\users\\user\\anaconda3\\lib\\site-packages (from tensorflow==2.4.1) (2.6.0)\n",
      "Requirement already satisfied: grpcio~=1.32.0 in c:\\users\\user\\anaconda3\\lib\\site-packages (from tensorflow==2.4.1) (1.32.0)\n",
      "Requirement already satisfied: opt-einsum~=3.3.0 in c:\\users\\user\\anaconda3\\lib\\site-packages (from tensorflow==2.4.1) (3.3.0)\n",
      "Requirement already satisfied: wrapt~=1.12.1 in c:\\users\\user\\anaconda3\\lib\\site-packages (from tensorflow==2.4.1) (1.12.1)\n",
      "Requirement already satisfied: typing-extensions~=3.7.4 in c:\\users\\user\\anaconda3\\lib\\site-packages (from tensorflow==2.4.1) (3.7.4.3)\n",
      "Requirement already satisfied: google-pasta~=0.2 in c:\\users\\user\\anaconda3\\lib\\site-packages (from tensorflow==2.4.1) (0.2.0)\n",
      "Requirement already satisfied: wheel~=0.35 in c:\\users\\user\\anaconda3\\lib\\site-packages (from tensorflow==2.4.1) (0.36.2)\n",
      "Requirement already satisfied: astunparse~=1.6.3 in c:\\users\\user\\anaconda3\\lib\\site-packages (from tensorflow==2.4.1) (1.6.3)\n",
      "Requirement already satisfied: absl-py~=0.10 in c:\\users\\user\\anaconda3\\lib\\site-packages (from tensorflow==2.4.1) (0.13.0)\n",
      "Requirement already satisfied: google-auth-oauthlib<0.5,>=0.4.1 in c:\\users\\user\\anaconda3\\lib\\site-packages (from tensorboard~=2.4->tensorflow==2.4.1) (0.4.6)\n",
      "Requirement already satisfied: requests<3,>=2.21.0 in c:\\users\\user\\anaconda3\\lib\\site-packages (from tensorboard~=2.4->tensorflow==2.4.1) (2.25.1)\n",
      "Requirement already satisfied: google-auth<2,>=1.6.3 in c:\\users\\user\\anaconda3\\lib\\site-packages (from tensorboard~=2.4->tensorflow==2.4.1) (1.35.0)\n",
      "Requirement already satisfied: tensorboard-data-server<0.7.0,>=0.6.0 in c:\\users\\user\\anaconda3\\lib\\site-packages (from tensorboard~=2.4->tensorflow==2.4.1) (0.6.1)\n",
      "Requirement already satisfied: setuptools>=41.0.0 in c:\\users\\user\\anaconda3\\lib\\site-packages (from tensorboard~=2.4->tensorflow==2.4.1) (52.0.0.post20210125)\n",
      "Requirement already satisfied: tensorboard-plugin-wit>=1.6.0 in c:\\users\\user\\anaconda3\\lib\\site-packages (from tensorboard~=2.4->tensorflow==2.4.1) (1.8.0)\n",
      "Requirement already satisfied: werkzeug>=0.11.15 in c:\\users\\user\\anaconda3\\lib\\site-packages (from tensorboard~=2.4->tensorflow==2.4.1) (1.0.1)\n",
      "Requirement already satisfied: markdown>=2.6.8 in c:\\users\\user\\anaconda3\\lib\\site-packages (from tensorboard~=2.4->tensorflow==2.4.1) (3.3.4)\n",
      "Requirement already satisfied: rsa<5,>=3.1.4 in c:\\users\\user\\anaconda3\\lib\\site-packages (from google-auth<2,>=1.6.3->tensorboard~=2.4->tensorflow==2.4.1) (4.7.2)\n",
      "Requirement already satisfied: cachetools<5.0,>=2.0.0 in c:\\users\\user\\anaconda3\\lib\\site-packages (from google-auth<2,>=1.6.3->tensorboard~=2.4->tensorflow==2.4.1) (4.2.2)\n",
      "Requirement already satisfied: pyasn1-modules>=0.2.1 in c:\\users\\user\\anaconda3\\lib\\site-packages (from google-auth<2,>=1.6.3->tensorboard~=2.4->tensorflow==2.4.1) (0.2.8)\n",
      "Requirement already satisfied: requests-oauthlib>=0.7.0 in c:\\users\\user\\anaconda3\\lib\\site-packages (from google-auth-oauthlib<0.5,>=0.4.1->tensorboard~=2.4->tensorflow==2.4.1) (1.3.0)\n",
      "Requirement already satisfied: pyasn1<0.5.0,>=0.4.6 in c:\\users\\user\\anaconda3\\lib\\site-packages (from pyasn1-modules>=0.2.1->google-auth<2,>=1.6.3->tensorboard~=2.4->tensorflow==2.4.1) (0.4.8)\n",
      "Requirement already satisfied: chardet<5,>=3.0.2 in c:\\users\\user\\anaconda3\\lib\\site-packages (from requests<3,>=2.21.0->tensorboard~=2.4->tensorflow==2.4.1) (4.0.0)\n",
      "Requirement already satisfied: urllib3<1.27,>=1.21.1 in c:\\users\\user\\anaconda3\\lib\\site-packages (from requests<3,>=2.21.0->tensorboard~=2.4->tensorflow==2.4.1) (1.26.4)\n",
      "Requirement already satisfied: certifi>=2017.4.17 in c:\\users\\user\\anaconda3\\lib\\site-packages (from requests<3,>=2.21.0->tensorboard~=2.4->tensorflow==2.4.1) (2020.12.5)\n",
      "Requirement already satisfied: idna<3,>=2.5 in c:\\users\\user\\anaconda3\\lib\\site-packages (from requests<3,>=2.21.0->tensorboard~=2.4->tensorflow==2.4.1) (2.10)\n",
      "Requirement already satisfied: oauthlib>=3.0.0 in c:\\users\\user\\anaconda3\\lib\\site-packages (from requests-oauthlib>=0.7.0->google-auth-oauthlib<0.5,>=0.4.1->tensorboard~=2.4->tensorflow==2.4.1) (3.1.1)\n",
      "Requirement already satisfied: kiwisolver>=1.0.1 in c:\\users\\user\\anaconda3\\lib\\site-packages (from matplotlib) (1.3.1)\n",
      "Requirement already satisfied: pyparsing!=2.0.4,!=2.1.2,!=2.1.6,>=2.0.3 in c:\\users\\user\\anaconda3\\lib\\site-packages (from matplotlib) (2.4.7)\n",
      "Requirement already satisfied: pillow>=6.2.0 in c:\\users\\user\\anaconda3\\lib\\site-packages (from matplotlib) (8.2.0)\n",
      "Requirement already satisfied: cycler>=0.10 in c:\\users\\user\\anaconda3\\lib\\site-packages (from matplotlib) (0.10.0)\n",
      "Requirement already satisfied: python-dateutil>=2.1 in c:\\users\\user\\anaconda3\\lib\\site-packages (from matplotlib) (2.8.1)\n",
      "Requirement already satisfied: opencv-contrib-python in c:\\users\\user\\anaconda3\\lib\\site-packages (from mediapipe) (4.5.3.56)\n",
      "Requirement already satisfied: attrs>=19.1.0 in c:\\users\\user\\anaconda3\\lib\\site-packages (from mediapipe) (20.3.0)\n",
      "Requirement already satisfied: scikit-learn in c:\\users\\user\\anaconda3\\lib\\site-packages (from sklearn) (0.24.1)\n",
      "Requirement already satisfied: threadpoolctl>=2.0.0 in c:\\users\\user\\anaconda3\\lib\\site-packages (from scikit-learn->sklearn) (2.1.0)\n",
      "Requirement already satisfied: joblib>=0.11 in c:\\users\\user\\anaconda3\\lib\\site-packages (from scikit-learn->sklearn) (1.0.1)\n",
      "Requirement already satisfied: scipy>=0.19.1 in c:\\users\\user\\anaconda3\\lib\\site-packages (from scikit-learn->sklearn) (1.6.2)\n"
     ]
    }
   ],
   "source": [
    "!pip install tensorflow==2.4.1 opencv-python mediapipe sklearn matplotlib"
   ]
  },
  {
   "cell_type": "code",
   "execution_count": 1,
   "metadata": {},
   "outputs": [],
   "source": [
    "import cv2\n",
    "import numpy as np\n",
    "import os\n",
    "from matplotlib import pyplot as plt\n",
    "import time\n",
    "import mediapipe as mp"
   ]
  },
  {
   "cell_type": "markdown",
   "metadata": {},
   "source": [
    "# 2. Keypoints using MP Holistic"
   ]
  },
  {
   "cell_type": "code",
   "execution_count": 2,
   "metadata": {},
   "outputs": [],
   "source": [
    "mp_holistic = mp.solutions.mediapipe.python.solutions.holistic\n",
    "mp_drawing = mp.solutions.drawing_utils # Drawing utilities"
   ]
  },
  {
   "cell_type": "code",
   "execution_count": 3,
   "metadata": {},
   "outputs": [],
   "source": [
    "def mediapipe_detection(image, model):\n",
    "    image = cv2.cvtColor(image, cv2.COLOR_BGR2RGB) # COLOR CONVERSION BGR 2 RGB\n",
    "    image.flags.writeable = False                  # Image is no longer writeable\n",
    "    results = model.process(image)                 # Make prediction\n",
    "    image.flags.writeable = True                   # Image is now writeable \n",
    "    image = cv2.cvtColor(image, cv2.COLOR_RGB2BGR) # COLOR COVERSION RGB 2 BGR\n",
    "    return image, results"
   ]
  },
  {
   "cell_type": "code",
   "execution_count": 4,
   "metadata": {},
   "outputs": [],
   "source": [
    "def draw_landmarks(image, results):\n",
    "    mp_drawing.draw_landmarks(image, results.face_landmarks, mp_holistic.FACEMESH_CONTOURS) # Draw face connections\n",
    "    mp_drawing.draw_landmarks(image, results.pose_landmarks, mp_holistic.POSE_CONNECTIONS) # Draw pose connections\n",
    "    mp_drawing.draw_landmarks(image, results.left_hand_landmarks, mp_holistic.HAND_CONNECTIONS) # Draw left hand connections\n",
    "    mp_drawing.draw_landmarks(image, results.right_hand_landmarks, mp_holistic.HAND_CONNECTIONS) # Draw right hand connections"
   ]
  },
  {
   "cell_type": "code",
   "execution_count": 5,
   "metadata": {},
   "outputs": [],
   "source": [
    "def draw_styled_landmarks(image, results):\n",
    "    # Draw face connections\n",
    "    mp_drawing.draw_landmarks(image, results.face_landmarks, mp_holistic.FACEMESH_CONTOURS, \n",
    "                             mp_drawing.DrawingSpec(color=(80,110,10), thickness=1, circle_radius=1), \n",
    "                             mp_drawing.DrawingSpec(color=(80,256,121), thickness=1, circle_radius=1)\n",
    "                             ) \n",
    "    # Draw pose connections\n",
    "    mp_drawing.draw_landmarks(image, results.pose_landmarks, mp_holistic.POSE_CONNECTIONS,\n",
    "                             mp_drawing.DrawingSpec(color=(80,22,10), thickness=2, circle_radius=4), \n",
    "                             mp_drawing.DrawingSpec(color=(80,44,121), thickness=2, circle_radius=2)\n",
    "                             ) \n",
    "    # Draw left hand connections\n",
    "    mp_drawing.draw_landmarks(image, results.left_hand_landmarks, mp_holistic.HAND_CONNECTIONS, \n",
    "                             mp_drawing.DrawingSpec(color=(121,22,76), thickness=2, circle_radius=4), \n",
    "                             mp_drawing.DrawingSpec(color=(121,44,250), thickness=2, circle_radius=2)\n",
    "                             ) \n",
    "    # Draw right hand connections  \n",
    "    mp_drawing.draw_landmarks(image, results.right_hand_landmarks, mp_holistic.HAND_CONNECTIONS, \n",
    "                             mp_drawing.DrawingSpec(color=(245,117,66), thickness=2, circle_radius=4), \n",
    "                             mp_drawing.DrawingSpec(color=(245,66,230), thickness=2, circle_radius=2)\n",
    "                             ) "
   ]
  },
  {
   "cell_type": "code",
   "execution_count": 6,
   "metadata": {},
   "outputs": [
    {
     "name": "stdout",
     "output_type": "stream",
     "text": [
      "<class 'mediapipe.python.solution_base.SolutionOutputs'>\n",
      "<class 'mediapipe.python.solution_base.SolutionOutputs'>\n",
      "<class 'mediapipe.python.solution_base.SolutionOutputs'>\n",
      "<class 'mediapipe.python.solution_base.SolutionOutputs'>\n",
      "<class 'mediapipe.python.solution_base.SolutionOutputs'>\n",
      "<class 'mediapipe.python.solution_base.SolutionOutputs'>\n",
      "<class 'mediapipe.python.solution_base.SolutionOutputs'>\n",
      "<class 'mediapipe.python.solution_base.SolutionOutputs'>\n"
     ]
    }
   ],
   "source": [
    "cap = cv2.VideoCapture(0)\n",
    "# Set mediapipe model \n",
    "with mp_holistic.Holistic(min_detection_confidence=0.5, min_tracking_confidence=0.5) as holistic:\n",
    "    while cap.isOpened():\n",
    "\n",
    "        # Read feed\n",
    "        ret, frame = cap.read()\n",
    "\n",
    "        # Make detections\n",
    "        image, results = mediapipe_detection(frame, holistic)\n",
    "        print(results)\n",
    "        \n",
    "        # Draw landmarks\n",
    "        draw_styled_landmarks(image, results)\n",
    "\n",
    "        # Show to screen\n",
    "        cv2.imshow('OpenCV Feed', image)\n",
    "\n",
    "        # Break gracefully\n",
    "        if cv2.waitKey(10) & 0xFF == ord('q'):\n",
    "            break\n",
    "    cap.release()\n",
    "    cv2.destroyAllWindows()"
   ]
  },
  {
   "cell_type": "code",
   "execution_count": 7,
   "metadata": {},
   "outputs": [],
   "source": [
    "draw_landmarks(frame, results)"
   ]
  },
  {
   "cell_type": "markdown",
   "metadata": {},
   "source": [
    "# 3. Extract Keypoint Values"
   ]
  },
  {
   "cell_type": "code",
   "execution_count": 18,
   "metadata": {},
   "outputs": [
    {
     "ename": "AttributeError",
     "evalue": "'NoneType' object has no attribute 'landmark'",
     "output_type": "error",
     "traceback": [
      "\u001b[1;31m---------------------------------------------------------------------------\u001b[0m",
      "\u001b[1;31mAttributeError\u001b[0m                            Traceback (most recent call last)",
      "\u001b[1;32m<ipython-input-18-db886034048d>\u001b[0m in \u001b[0;36m<module>\u001b[1;34m\u001b[0m\n\u001b[1;32m----> 1\u001b[1;33m \u001b[0mlen\u001b[0m\u001b[1;33m(\u001b[0m\u001b[0mresults\u001b[0m\u001b[1;33m.\u001b[0m\u001b[0mleft_hand_landmarks\u001b[0m\u001b[1;33m.\u001b[0m\u001b[0mlandmark\u001b[0m\u001b[1;33m)\u001b[0m\u001b[1;33m\u001b[0m\u001b[1;33m\u001b[0m\u001b[0m\n\u001b[0m",
      "\u001b[1;31mAttributeError\u001b[0m: 'NoneType' object has no attribute 'landmark'"
     ]
    }
   ],
   "source": [
    "len(results.left_hand_landmarks.landmark)"
   ]
  },
  {
   "cell_type": "code",
   "execution_count": 7,
   "metadata": {},
   "outputs": [],
   "source": [
    "pose = []\n",
    "for res in results.pose_landmarks.landmark:\n",
    "    test = np.array([res.x, res.y, res.z, res.visibility])\n",
    "    pose.append(test)"
   ]
  },
  {
   "cell_type": "code",
   "execution_count": 8,
   "metadata": {},
   "outputs": [],
   "source": [
    "pose = np.array([[res.x, res.y, res.z, res.visibility] for res in results.pose_landmarks.landmark]).flatten() if results.pose_landmarks else np.zeros(132)\n",
    "face = np.array([[res.x, res.y, res.z] for res in results.face_landmarks.landmark]).flatten() if results.face_landmarks else np.zeros(1404)\n",
    "lh = np.array([[res.x, res.y, res.z] for res in results.left_hand_landmarks.landmark]).flatten() if results.left_hand_landmarks else np.zeros(21*3)\n",
    "rh = np.array([[res.x, res.y, res.z] for res in results.right_hand_landmarks.landmark]).flatten() if results.right_hand_landmarks else np.zeros(21*3)"
   ]
  },
  {
   "cell_type": "code",
   "execution_count": 9,
   "metadata": {},
   "outputs": [
    {
     "data": {
      "text/plain": [
       "(132,)"
      ]
     },
     "execution_count": 9,
     "metadata": {},
     "output_type": "execute_result"
    }
   ],
   "source": [
    "pose.shape\n"
   ]
  },
  {
   "cell_type": "code",
   "execution_count": 10,
   "metadata": {},
   "outputs": [],
   "source": [
    "def extract_keypoints(results):\n",
    "    pose = np.array([[res.x, res.y, res.z, res.visibility] for res in results.pose_landmarks.landmark]).flatten() if results.pose_landmarks else np.zeros(33*4)\n",
    "    face = np.array([[res.x, res.y, res.z] for res in results.face_landmarks.landmark]).flatten() if results.face_landmarks else np.zeros(468*3)\n",
    "    lh = np.array([[res.x, res.y, res.z] for res in results.left_hand_landmarks.landmark]).flatten() if results.left_hand_landmarks else np.zeros(21*3)\n",
    "    rh = np.array([[res.x, res.y, res.z] for res in results.right_hand_landmarks.landmark]).flatten() if results.right_hand_landmarks else np.zeros(21*3)\n",
    "    return np.concatenate([pose, face, lh, rh])"
   ]
  },
  {
   "cell_type": "code",
   "execution_count": 11,
   "metadata": {},
   "outputs": [],
   "source": [
    "result_test = extract_keypoints(results)"
   ]
  },
  {
   "cell_type": "code",
   "execution_count": 12,
   "metadata": {},
   "outputs": [
    {
     "data": {
      "text/plain": [
       "array([ 0.56231844,  0.6170488 , -2.84551477, ...,  0.        ,\n",
       "        0.        ,  0.        ])"
      ]
     },
     "execution_count": 12,
     "metadata": {},
     "output_type": "execute_result"
    }
   ],
   "source": [
    "result_test"
   ]
  },
  {
   "cell_type": "code",
   "execution_count": 13,
   "metadata": {},
   "outputs": [],
   "source": [
    "np.save('0', result_test)"
   ]
  },
  {
   "cell_type": "code",
   "execution_count": 14,
   "metadata": {
    "scrolled": true
   },
   "outputs": [
    {
     "data": {
      "text/plain": [
       "array([ 0.56231844,  0.6170488 , -2.84551477, ...,  0.        ,\n",
       "        0.        ,  0.        ])"
      ]
     },
     "execution_count": 14,
     "metadata": {},
     "output_type": "execute_result"
    }
   ],
   "source": [
    "np.load('0.npy')"
   ]
  },
  {
   "cell_type": "markdown",
   "metadata": {},
   "source": [
    "# 4. Setup Folders for Collection"
   ]
  },
  {
   "cell_type": "code",
   "execution_count": 22,
   "metadata": {},
   "outputs": [],
   "source": [
    "#Path for data\n",
    "DATA_PATH = os.path.join('MP_DATA')\n",
    "\n",
    "# Actions to be detected\n",
    "actions = np.array(['hello','see','iloveyou'])\n",
    "\n",
    "#14 videos of data\n",
    "no_sequences = 50\n",
    "\n",
    "# videos would be 30 frames in length\n",
    "sequence_length = 30\n"
   ]
  },
  {
   "cell_type": "code",
   "execution_count": null,
   "metadata": {},
   "outputs": [],
   "source": []
  },
  {
   "cell_type": "code",
   "execution_count": 11,
   "metadata": {},
   "outputs": [],
   "source": [
    "for action in actions: \n",
    "    for sequence in range(no_sequences):\n",
    "        try: \n",
    "            os.makedirs(os.path.join(DATA_PATH, action, str(sequence)))\n",
    "        except:\n",
    "            pass"
   ]
  },
  {
   "cell_type": "markdown",
   "metadata": {},
   "source": [
    "# 5. Collect Keypoint Values for Training and Testing"
   ]
  },
  {
   "cell_type": "code",
   "execution_count": 12,
   "metadata": {},
   "outputs": [],
   "source": [
    "cap = cv2.VideoCapture(0)\n",
    "# Set mediapipe model \n",
    "with mp_holistic.Holistic(min_detection_confidence=0.5, min_tracking_confidence=0.5) as holistic:\n",
    "    \n",
    "    # NEW LOOP\n",
    "    # Loop through actions\n",
    "    for action in actions:\n",
    "        # Loop through sequences aka videos\n",
    "        for sequence in range(no_sequences):\n",
    "            # Loop through video length aka sequence length\n",
    "            for frame_num in range(sequence_length):\n",
    "\n",
    "                # Read feed\n",
    "                ret, frame = cap.read()\n",
    "\n",
    "                # Make detections\n",
    "                image, results = mediapipe_detection(frame, holistic)\n",
    "\n",
    "                # Draw landmarks\n",
    "                draw_styled_landmarks(image, results)\n",
    "                \n",
    "                # NEW Apply wait logic\n",
    "                if frame_num == 0: \n",
    "                    cv2.putText(image, 'TAKE {}'.format(sequence), (120,200), \n",
    "                               cv2.FONT_HERSHEY_SIMPLEX, 1, (0,255, 0), 4, cv2.LINE_AA)\n",
    "                    cv2.putText(image, 'Collecting frames for {} Video Number {}'.format(action, sequence), (15,12), \n",
    "                               cv2.FONT_HERSHEY_SIMPLEX, 0.5, (0, 0, 255), 1, cv2.LINE_AA)\n",
    "                    # Show to screen\n",
    "                    cv2.imshow('OpenCV Feed', image)\n",
    "                    cv2.waitKey(500)\n",
    "                else: \n",
    "                    cv2.putText(image, 'Collecting frames for {} Video Number {}'.format(action, sequence), (15,12), \n",
    "                               cv2.FONT_HERSHEY_SIMPLEX, 0.5, (0, 0, 255), 1, cv2.LINE_AA)\n",
    "                    # Show to screen\n",
    "                    cv2.imshow('OpenCV Feed', image)\n",
    "                \n",
    "                # NEW Export keypoints\n",
    "                keypoints = extract_keypoints(results)\n",
    "                npy_path =  os.path.join(DATA_PATH, action,str(sequence),str(frame_num))\n",
    "                np.save(npy_path, keypoints)\n",
    "\n",
    "                # Break gracefully\n",
    "                if cv2.waitKey(10) & 0xFF == ord('q'):\n",
    "                    break\n",
    "                    \n",
    "    cap.release()\n",
    "    cv2.destroyAllWindows()"
   ]
  },
  {
   "cell_type": "code",
   "execution_count": null,
   "metadata": {},
   "outputs": [],
   "source": [
    "cap.release()\n",
    "cv2.destroyAllWindows()"
   ]
  },
  {
   "cell_type": "markdown",
   "metadata": {},
   "source": [
    "# 6. Preprocess Data and Create Labels and Features"
   ]
  },
  {
   "cell_type": "code",
   "execution_count": 20,
   "metadata": {},
   "outputs": [],
   "source": [
    "from sklearn.model_selection import train_test_split\n",
    "from tensorflow.keras.utils import to_categorical"
   ]
  },
  {
   "cell_type": "code",
   "execution_count": 23,
   "metadata": {},
   "outputs": [],
   "source": [
    "label_map = {label:num for num, label in enumerate(actions)}"
   ]
  },
  {
   "cell_type": "code",
   "execution_count": 24,
   "metadata": {},
   "outputs": [
    {
     "data": {
      "text/plain": [
       "{'hello': 0, 'see': 1, 'iloveyou': 2}"
      ]
     },
     "execution_count": 24,
     "metadata": {},
     "output_type": "execute_result"
    }
   ],
   "source": [
    "label_map"
   ]
  },
  {
   "cell_type": "code",
   "execution_count": 25,
   "metadata": {},
   "outputs": [],
   "source": [
    "sequences, labels = [], []\n",
    "for action in actions:\n",
    "    for sequence in range(no_sequences):\n",
    "        window = []\n",
    "        for frame_num in range(sequence_length):\n",
    "            res = np.load(os.path.join(DATA_PATH, action, str(sequence), \"{}.npy\".format(frame_num)))\n",
    "            window.append(res)\n",
    "        sequences.append(window)\n",
    "        labels.append(label_map[action])"
   ]
  },
  {
   "cell_type": "code",
   "execution_count": null,
   "metadata": {},
   "outputs": [],
   "source": [
    "np.array(sequences).shape"
   ]
  },
  {
   "cell_type": "code",
   "execution_count": null,
   "metadata": {},
   "outputs": [],
   "source": [
    "np.array(labels).shape"
   ]
  },
  {
   "cell_type": "code",
   "execution_count": 26,
   "metadata": {},
   "outputs": [],
   "source": [
    "X = np.array(sequences)"
   ]
  },
  {
   "cell_type": "code",
   "execution_count": 27,
   "metadata": {},
   "outputs": [
    {
     "data": {
      "text/plain": [
       "(150, 30, 1662)"
      ]
     },
     "execution_count": 27,
     "metadata": {},
     "output_type": "execute_result"
    }
   ],
   "source": [
    "X.shape"
   ]
  },
  {
   "cell_type": "code",
   "execution_count": 28,
   "metadata": {},
   "outputs": [],
   "source": [
    "y = to_categorical(labels).astype(int)"
   ]
  },
  {
   "cell_type": "code",
   "execution_count": 29,
   "metadata": {},
   "outputs": [],
   "source": [
    "X_train, X_test, y_train, y_test = train_test_split(X, y, test_size=0.05)"
   ]
  },
  {
   "cell_type": "code",
   "execution_count": 30,
   "metadata": {},
   "outputs": [
    {
     "data": {
      "text/plain": [
       "(8, 3)"
      ]
     },
     "execution_count": 30,
     "metadata": {},
     "output_type": "execute_result"
    }
   ],
   "source": [
    "y_test.shape"
   ]
  },
  {
   "cell_type": "markdown",
   "metadata": {},
   "source": [
    "# 7. Build and Train LSTM Neural Network"
   ]
  },
  {
   "cell_type": "code",
   "execution_count": 15,
   "metadata": {},
   "outputs": [],
   "source": [
    "from tensorflow.keras.models import Sequential\n",
    "from tensorflow.keras.layers import LSTM, Dense\n",
    "from tensorflow.keras.callbacks import TensorBoard"
   ]
  },
  {
   "cell_type": "code",
   "execution_count": 16,
   "metadata": {},
   "outputs": [],
   "source": [
    "log_dir = os.path.join('Logs')\n",
    "tb_callback = TensorBoard(log_dir=log_dir)"
   ]
  },
  {
   "cell_type": "code",
   "execution_count": 31,
   "metadata": {},
   "outputs": [],
   "source": [
    "model = Sequential()\n",
    "model.add(LSTM(64, return_sequences=True, activation='relu', input_shape=(30,1662)))\n",
    "model.add(LSTM(128, return_sequences=True, activation='relu'))\n",
    "model.add(LSTM(64, return_sequences=False, activation='relu'))\n",
    "model.add(Dense(64, activation='relu'))\n",
    "model.add(Dense(32, activation='relu'))\n",
    "model.add(Dense(actions.shape[0], activation='softmax'))"
   ]
  },
  {
   "cell_type": "code",
   "execution_count": 32,
   "metadata": {},
   "outputs": [],
   "source": [
    "model.compile(optimizer='Adam', loss='categorical_crossentropy', metrics=['categorical_accuracy'])"
   ]
  },
  {
   "cell_type": "code",
   "execution_count": 28,
   "metadata": {
    "scrolled": true
   },
   "outputs": [
    {
     "name": "stdout",
     "output_type": "stream",
     "text": [
      "Epoch 1/2000\n",
      "5/5 [==============================] - 5s 234ms/step - loss: 7.5444 - categorical_accuracy: 0.2333\n",
      "Epoch 2/2000\n",
      "5/5 [==============================] - 0s 99ms/step - loss: 94.7667 - categorical_accuracy: 0.3412\n",
      "Epoch 3/2000\n",
      "5/5 [==============================] - 1s 114ms/step - loss: 130.2785 - categorical_accuracy: 0.3808\n",
      "Epoch 4/2000\n",
      "5/5 [==============================] - 1s 110ms/step - loss: 29.2765 - categorical_accuracy: 0.3299\n",
      "Epoch 5/2000\n",
      "5/5 [==============================] - 1s 112ms/step - loss: 63.5877 - categorical_accuracy: 0.2846\n",
      "Epoch 6/2000\n",
      "5/5 [==============================] - 1s 103ms/step - loss: 77.2957 - categorical_accuracy: 0.2706\n",
      "Epoch 7/2000\n",
      "5/5 [==============================] - 1s 100ms/step - loss: 21.8407 - categorical_accuracy: 0.3864\n",
      "Epoch 8/2000\n",
      "5/5 [==============================] - 0s 98ms/step - loss: 3.8104 - categorical_accuracy: 0.2337\n",
      "Epoch 9/2000\n",
      "5/5 [==============================] - 1s 102ms/step - loss: 2.2093 - categorical_accuracy: 0.3026\n",
      "Epoch 10/2000\n",
      "5/5 [==============================] - 1s 100ms/step - loss: 1.0886 - categorical_accuracy: 0.4620\n",
      "Epoch 11/2000\n",
      "5/5 [==============================] - 1s 101ms/step - loss: 1.1365 - categorical_accuracy: 0.4287\n",
      "Epoch 12/2000\n",
      "5/5 [==============================] - 0s 97ms/step - loss: 1.0315 - categorical_accuracy: 0.5544\n",
      "Epoch 13/2000\n",
      "5/5 [==============================] - 1s 103ms/step - loss: 0.9377 - categorical_accuracy: 0.5374\n",
      "Epoch 14/2000\n",
      "5/5 [==============================] - 1s 100ms/step - loss: 0.7603 - categorical_accuracy: 0.6833\n",
      "Epoch 15/2000\n",
      "5/5 [==============================] - 1s 112ms/step - loss: 1.2873 - categorical_accuracy: 0.5710\n",
      "Epoch 16/2000\n",
      "5/5 [==============================] - 1s 100ms/step - loss: 1.5700 - categorical_accuracy: 0.4786\n",
      "Epoch 17/2000\n",
      "5/5 [==============================] - 1s 110ms/step - loss: 1.1086 - categorical_accuracy: 0.5912\n",
      "Epoch 18/2000\n",
      "5/5 [==============================] - 0s 99ms/step - loss: 2.1080 - categorical_accuracy: 0.3673\n",
      "Epoch 19/2000\n",
      "5/5 [==============================] - 1s 111ms/step - loss: 1.1566 - categorical_accuracy: 0.3965\n",
      "Epoch 20/2000\n",
      "5/5 [==============================] - 1s 108ms/step - loss: 0.9993 - categorical_accuracy: 0.5354\n",
      "Epoch 21/2000\n",
      "5/5 [==============================] - 0s 97ms/step - loss: 0.8508 - categorical_accuracy: 0.5678\n",
      "Epoch 22/2000\n",
      "5/5 [==============================] - 1s 116ms/step - loss: 0.8404 - categorical_accuracy: 0.7103\n",
      "Epoch 23/2000\n",
      "5/5 [==============================] - 1s 109ms/step - loss: 0.6840 - categorical_accuracy: 0.7146\n",
      "Epoch 24/2000\n",
      "5/5 [==============================] - 1s 105ms/step - loss: 0.9116 - categorical_accuracy: 0.6858\n",
      "Epoch 25/2000\n",
      "5/5 [==============================] - 0s 98ms/step - loss: 12.3283 - categorical_accuracy: 0.4433\n",
      "Epoch 26/2000\n",
      "5/5 [==============================] - 1s 109ms/step - loss: 188.7244 - categorical_accuracy: 0.2833\n",
      "Epoch 27/2000\n",
      "5/5 [==============================] - 1s 103ms/step - loss: 13.2950 - categorical_accuracy: 0.4539\n",
      "Epoch 28/2000\n",
      "5/5 [==============================] - 1s 109ms/step - loss: 21.9570 - categorical_accuracy: 0.3216\n",
      "Epoch 29/2000\n",
      "5/5 [==============================] - 1s 103ms/step - loss: 8.3054 - categorical_accuracy: 0.3572\n",
      "Epoch 30/2000\n",
      "5/5 [==============================] - 1s 107ms/step - loss: 2.8676 - categorical_accuracy: 0.3446\n",
      "Epoch 31/2000\n",
      "5/5 [==============================] - 1s 109ms/step - loss: 1.5832 - categorical_accuracy: 0.3741\n",
      "Epoch 32/2000\n",
      "5/5 [==============================] - 1s 101ms/step - loss: 1.2806 - categorical_accuracy: 0.4146\n",
      "Epoch 33/2000\n",
      "5/5 [==============================] - 1s 104ms/step - loss: 1.1317 - categorical_accuracy: 0.3875\n",
      "Epoch 34/2000\n",
      "5/5 [==============================] - 0s 96ms/step - loss: 1.1673 - categorical_accuracy: 0.3868\n",
      "Epoch 35/2000\n",
      "5/5 [==============================] - 1s 134ms/step - loss: 0.9705 - categorical_accuracy: 0.5031\n",
      "Epoch 36/2000\n",
      "5/5 [==============================] - 1s 111ms/step - loss: 0.9028 - categorical_accuracy: 0.6087\n",
      "Epoch 37/2000\n",
      "5/5 [==============================] - 1s 131ms/step - loss: 0.8441 - categorical_accuracy: 0.5946\n",
      "Epoch 38/2000\n",
      "5/5 [==============================] - 1s 121ms/step - loss: 0.7546 - categorical_accuracy: 0.6497\n",
      "Epoch 39/2000\n",
      "5/5 [==============================] - 1s 97ms/step - loss: 0.7584 - categorical_accuracy: 0.6215\n",
      "Epoch 40/2000\n",
      "5/5 [==============================] - 0s 97ms/step - loss: 0.7623 - categorical_accuracy: 0.6112\n",
      "Epoch 41/2000\n",
      "5/5 [==============================] - 1s 108ms/step - loss: 0.6196 - categorical_accuracy: 0.7141\n",
      "Epoch 42/2000\n",
      "5/5 [==============================] - 1s 101ms/step - loss: 0.6064 - categorical_accuracy: 0.7276\n",
      "Epoch 43/2000\n",
      "5/5 [==============================] - 1s 108ms/step - loss: 0.5512 - categorical_accuracy: 0.7751\n",
      "Epoch 44/2000\n",
      "5/5 [==============================] - 1s 117ms/step - loss: 0.5190 - categorical_accuracy: 0.8054\n",
      "Epoch 45/2000\n",
      "5/5 [==============================] - 1s 109ms/step - loss: 0.4784 - categorical_accuracy: 0.8161\n",
      "Epoch 46/2000\n",
      "5/5 [==============================] - 1s 106ms/step - loss: 0.5523 - categorical_accuracy: 0.7855\n",
      "Epoch 47/2000\n",
      "5/5 [==============================] - 1s 109ms/step - loss: 0.5449 - categorical_accuracy: 0.7917\n",
      "Epoch 48/2000\n",
      "5/5 [==============================] - 1s 102ms/step - loss: 0.5160 - categorical_accuracy: 0.7950\n",
      "Epoch 49/2000\n",
      "5/5 [==============================] - 1s 113ms/step - loss: 0.6392 - categorical_accuracy: 0.7217\n",
      "Epoch 50/2000\n",
      "5/5 [==============================] - 1s 106ms/step - loss: 0.5573 - categorical_accuracy: 0.7946\n",
      "Epoch 51/2000\n",
      "5/5 [==============================] - 0s 99ms/step - loss: 0.5067 - categorical_accuracy: 0.7704\n",
      "Epoch 52/2000\n",
      "5/5 [==============================] - 0s 96ms/step - loss: 0.5081 - categorical_accuracy: 0.7866\n",
      "Epoch 53/2000\n",
      "5/5 [==============================] - 1s 101ms/step - loss: 0.5747 - categorical_accuracy: 0.7352\n",
      "Epoch 54/2000\n",
      "5/5 [==============================] - 0s 97ms/step - loss: 0.5740 - categorical_accuracy: 0.7417\n",
      "Epoch 55/2000\n",
      "5/5 [==============================] - 1s 101ms/step - loss: 0.5827 - categorical_accuracy: 0.7532\n",
      "Epoch 56/2000\n",
      "5/5 [==============================] - 1s 99ms/step - loss: 0.5443 - categorical_accuracy: 0.7588\n",
      "Epoch 57/2000\n",
      "5/5 [==============================] - 1s 106ms/step - loss: 0.4925 - categorical_accuracy: 0.7469\n",
      "Epoch 58/2000\n",
      "5/5 [==============================] - 1s 107ms/step - loss: 0.4673 - categorical_accuracy: 0.7804\n",
      "Epoch 59/2000\n",
      "5/5 [==============================] - 1s 133ms/step - loss: 0.5254 - categorical_accuracy: 0.7474\n",
      "Epoch 60/2000\n",
      "5/5 [==============================] - 1s 124ms/step - loss: 0.4667 - categorical_accuracy: 0.8003\n",
      "Epoch 61/2000\n",
      "5/5 [==============================] - 1s 109ms/step - loss: 0.5105 - categorical_accuracy: 0.7853\n",
      "Epoch 62/2000\n",
      "5/5 [==============================] - 1s 116ms/step - loss: 0.4522 - categorical_accuracy: 0.8473\n",
      "Epoch 63/2000\n",
      "5/5 [==============================] - 1s 109ms/step - loss: 0.3620 - categorical_accuracy: 0.8375\n",
      "Epoch 64/2000\n",
      "5/5 [==============================] - 1s 114ms/step - loss: 0.3890 - categorical_accuracy: 0.8142\n",
      "Epoch 65/2000\n",
      "5/5 [==============================] - 1s 113ms/step - loss: 0.4705 - categorical_accuracy: 0.7894\n",
      "Epoch 66/2000\n",
      "5/5 [==============================] - 1s 109ms/step - loss: 0.4383 - categorical_accuracy: 0.7890\n",
      "Epoch 67/2000\n",
      "5/5 [==============================] - 1s 110ms/step - loss: 0.5516 - categorical_accuracy: 0.7766\n",
      "Epoch 68/2000\n",
      "5/5 [==============================] - 1s 108ms/step - loss: 0.5512 - categorical_accuracy: 0.7729\n",
      "Epoch 69/2000\n",
      "5/5 [==============================] - 1s 114ms/step - loss: 0.7506 - categorical_accuracy: 0.6810\n",
      "Epoch 70/2000\n",
      "5/5 [==============================] - 1s 110ms/step - loss: 0.6688 - categorical_accuracy: 0.7023\n",
      "Epoch 71/2000\n",
      "5/5 [==============================] - 1s 120ms/step - loss: 0.6560 - categorical_accuracy: 0.7086\n",
      "Epoch 72/2000\n",
      "5/5 [==============================] - 1s 109ms/step - loss: 0.5341 - categorical_accuracy: 0.8084\n",
      "Epoch 73/2000\n",
      "5/5 [==============================] - 1s 112ms/step - loss: 0.7755 - categorical_accuracy: 0.6987\n",
      "Epoch 74/2000\n",
      "5/5 [==============================] - 1s 110ms/step - loss: 0.7511 - categorical_accuracy: 0.7171\n",
      "Epoch 75/2000\n",
      "5/5 [==============================] - 1s 111ms/step - loss: 0.5979 - categorical_accuracy: 0.7352\n",
      "Epoch 76/2000\n",
      "5/5 [==============================] - 1s 115ms/step - loss: 0.6032 - categorical_accuracy: 0.7403\n",
      "Epoch 77/2000\n",
      "5/5 [==============================] - 1s 110ms/step - loss: 0.5160 - categorical_accuracy: 0.8080\n",
      "Epoch 78/2000\n",
      "5/5 [==============================] - 1s 101ms/step - loss: 0.4826 - categorical_accuracy: 0.7924\n",
      "Epoch 79/2000\n",
      "5/5 [==============================] - 0s 96ms/step - loss: 0.4954 - categorical_accuracy: 0.7818\n",
      "Epoch 80/2000\n",
      "5/5 [==============================] - 0s 99ms/step - loss: 0.4941 - categorical_accuracy: 0.8239\n",
      "Epoch 81/2000\n",
      "5/5 [==============================] - 0s 96ms/step - loss: 0.4613 - categorical_accuracy: 0.8392\n",
      "Epoch 82/2000\n",
      "5/5 [==============================] - 1s 104ms/step - loss: 0.3832 - categorical_accuracy: 0.8240\n",
      "Epoch 83/2000\n",
      "5/5 [==============================] - 0s 97ms/step - loss: 0.4090 - categorical_accuracy: 0.8223\n",
      "Epoch 84/2000\n",
      "5/5 [==============================] - 0s 97ms/step - loss: 0.3753 - categorical_accuracy: 0.8004\n",
      "Epoch 85/2000\n",
      "5/5 [==============================] - 0s 96ms/step - loss: 0.4435 - categorical_accuracy: 0.8240\n",
      "Epoch 86/2000\n",
      "5/5 [==============================] - 1s 99ms/step - loss: 0.4516 - categorical_accuracy: 0.8217\n",
      "Epoch 87/2000\n",
      "5/5 [==============================] - 0s 98ms/step - loss: 0.4321 - categorical_accuracy: 0.7759\n",
      "Epoch 88/2000\n",
      "5/5 [==============================] - 1s 99ms/step - loss: 0.4637 - categorical_accuracy: 0.7741\n",
      "Epoch 89/2000\n",
      "5/5 [==============================] - 0s 96ms/step - loss: 0.4284 - categorical_accuracy: 0.7943\n",
      "Epoch 90/2000\n",
      "5/5 [==============================] - 1s 101ms/step - loss: 0.3559 - categorical_accuracy: 0.8472\n",
      "Epoch 91/2000\n",
      "5/5 [==============================] - 0s 97ms/step - loss: 0.3397 - categorical_accuracy: 0.8348\n",
      "Epoch 92/2000\n",
      "5/5 [==============================] - 0s 97ms/step - loss: 0.2937 - categorical_accuracy: 0.8846\n",
      "Epoch 93/2000\n",
      "5/5 [==============================] - 0s 100ms/step - loss: 0.3297 - categorical_accuracy: 0.8819\n",
      "Epoch 94/2000\n",
      "5/5 [==============================] - 1s 99ms/step - loss: 0.3809 - categorical_accuracy: 0.8477\n",
      "Epoch 95/2000\n",
      "5/5 [==============================] - 0s 97ms/step - loss: 0.4949 - categorical_accuracy: 0.7724\n",
      "Epoch 96/2000\n",
      "5/5 [==============================] - 0s 96ms/step - loss: 0.4607 - categorical_accuracy: 0.7856\n",
      "Epoch 97/2000\n",
      "5/5 [==============================] - 0s 97ms/step - loss: 0.3790 - categorical_accuracy: 0.8405\n",
      "Epoch 98/2000\n",
      "5/5 [==============================] - 0s 98ms/step - loss: 0.3216 - categorical_accuracy: 0.8738\n",
      "Epoch 99/2000\n",
      "5/5 [==============================] - 0s 100ms/step - loss: 0.3680 - categorical_accuracy: 0.8457\n",
      "Epoch 100/2000\n",
      "5/5 [==============================] - 0s 97ms/step - loss: 0.3716 - categorical_accuracy: 0.8489\n",
      "Epoch 101/2000\n",
      "5/5 [==============================] - 0s 96ms/step - loss: 0.3395 - categorical_accuracy: 0.8460\n",
      "Epoch 102/2000\n",
      "5/5 [==============================] - 0s 98ms/step - loss: 0.2589 - categorical_accuracy: 0.9053\n",
      "Epoch 103/2000\n",
      "5/5 [==============================] - 0s 96ms/step - loss: 0.2692 - categorical_accuracy: 0.8878\n",
      "Epoch 104/2000\n",
      "5/5 [==============================] - 1s 99ms/step - loss: 0.2252 - categorical_accuracy: 0.9468\n",
      "Epoch 105/2000\n",
      "5/5 [==============================] - 1s 100ms/step - loss: 0.2226 - categorical_accuracy: 0.8931\n",
      "Epoch 106/2000\n",
      "5/5 [==============================] - 1s 100ms/step - loss: 0.2370 - categorical_accuracy: 0.8959\n",
      "Epoch 107/2000\n",
      "5/5 [==============================] - 0s 99ms/step - loss: 0.2295 - categorical_accuracy: 0.9253\n",
      "Epoch 108/2000\n",
      "5/5 [==============================] - 1s 107ms/step - loss: 0.2110 - categorical_accuracy: 0.9080\n",
      "Epoch 109/2000\n",
      "5/5 [==============================] - 1s 124ms/step - loss: 0.2521 - categorical_accuracy: 0.8949\n",
      "Epoch 110/2000\n",
      "5/5 [==============================] - 1s 100ms/step - loss: 0.2387 - categorical_accuracy: 0.9078\n",
      "Epoch 111/2000\n",
      "5/5 [==============================] - 1s 103ms/step - loss: 0.2552 - categorical_accuracy: 0.8794\n",
      "Epoch 112/2000\n",
      "5/5 [==============================] - 1s 101ms/step - loss: 0.2687 - categorical_accuracy: 0.8552\n",
      "Epoch 113/2000\n",
      "5/5 [==============================] - 1s 101ms/step - loss: 0.7409 - categorical_accuracy: 0.7059\n",
      "Epoch 114/2000\n",
      "5/5 [==============================] - 1s 112ms/step - loss: 0.9106 - categorical_accuracy: 0.6651\n",
      "Epoch 115/2000\n",
      "5/5 [==============================] - 1s 110ms/step - loss: 0.5471 - categorical_accuracy: 0.7535\n",
      "Epoch 116/2000\n",
      "5/5 [==============================] - 1s 99ms/step - loss: 1.0343 - categorical_accuracy: 0.6012\n",
      "Epoch 117/2000\n",
      "5/5 [==============================] - 1s 116ms/step - loss: 0.8831 - categorical_accuracy: 0.5700\n",
      "Epoch 118/2000\n",
      "5/5 [==============================] - 1s 109ms/step - loss: 0.9046 - categorical_accuracy: 0.4993\n",
      "Epoch 119/2000\n",
      "5/5 [==============================] - 0s 96ms/step - loss: 0.9136 - categorical_accuracy: 0.4457\n",
      "Epoch 120/2000\n",
      "5/5 [==============================] - 1s 100ms/step - loss: 0.9120 - categorical_accuracy: 0.5385\n",
      "Epoch 121/2000\n",
      "5/5 [==============================] - 1s 112ms/step - loss: 0.8167 - categorical_accuracy: 0.7001\n",
      "Epoch 122/2000\n",
      "5/5 [==============================] - 1s 116ms/step - loss: 0.7820 - categorical_accuracy: 0.6731\n",
      "Epoch 123/2000\n",
      "5/5 [==============================] - 1s 116ms/step - loss: 0.6903 - categorical_accuracy: 0.7371\n",
      "Epoch 124/2000\n",
      "5/5 [==============================] - 1s 104ms/step - loss: 0.7008 - categorical_accuracy: 0.6743\n",
      "Epoch 125/2000\n",
      "5/5 [==============================] - 1s 107ms/step - loss: 0.6463 - categorical_accuracy: 0.6852\n",
      "Epoch 126/2000\n",
      "5/5 [==============================] - 1s 115ms/step - loss: 0.5377 - categorical_accuracy: 0.7266\n",
      "Epoch 127/2000\n",
      "5/5 [==============================] - 1s 99ms/step - loss: 0.6052 - categorical_accuracy: 0.7085\n",
      "Epoch 128/2000\n",
      "5/5 [==============================] - 1s 100ms/step - loss: 0.5784 - categorical_accuracy: 0.7170\n",
      "Epoch 129/2000\n",
      "5/5 [==============================] - 1s 111ms/step - loss: 0.5229 - categorical_accuracy: 0.7411\n",
      "Epoch 130/2000\n",
      "5/5 [==============================] - 1s 111ms/step - loss: 1.4966 - categorical_accuracy: 0.7373\n",
      "Epoch 131/2000\n",
      "5/5 [==============================] - 1s 106ms/step - loss: 1.1335 - categorical_accuracy: 0.7086\n",
      "Epoch 132/2000\n",
      "5/5 [==============================] - 1s 105ms/step - loss: 0.5793 - categorical_accuracy: 0.7314\n",
      "Epoch 133/2000\n",
      "5/5 [==============================] - 1s 109ms/step - loss: 0.5304 - categorical_accuracy: 0.6830\n",
      "Epoch 134/2000\n",
      "5/5 [==============================] - 1s 108ms/step - loss: 0.4766 - categorical_accuracy: 0.7499\n",
      "Epoch 135/2000\n",
      "5/5 [==============================] - 1s 109ms/step - loss: 0.5570 - categorical_accuracy: 0.7119\n",
      "Epoch 136/2000\n",
      "5/5 [==============================] - 1s 108ms/step - loss: 0.5468 - categorical_accuracy: 0.7678\n",
      "Epoch 137/2000\n",
      "5/5 [==============================] - 1s 108ms/step - loss: 0.5647 - categorical_accuracy: 0.7819\n",
      "Epoch 138/2000\n",
      "5/5 [==============================] - 1s 106ms/step - loss: 0.5513 - categorical_accuracy: 0.7491\n",
      "Epoch 139/2000\n",
      "5/5 [==============================] - 1s 110ms/step - loss: 0.4808 - categorical_accuracy: 0.8125\n",
      "Epoch 140/2000\n",
      "5/5 [==============================] - 1s 105ms/step - loss: 0.4744 - categorical_accuracy: 0.7709\n",
      "Epoch 141/2000\n",
      "5/5 [==============================] - 1s 104ms/step - loss: 0.4633 - categorical_accuracy: 0.7782\n",
      "Epoch 142/2000\n",
      "5/5 [==============================] - 1s 110ms/step - loss: 0.4585 - categorical_accuracy: 0.7916\n",
      "Epoch 143/2000\n",
      "5/5 [==============================] - 1s 107ms/step - loss: 0.4541 - categorical_accuracy: 0.7812\n",
      "Epoch 144/2000\n",
      "5/5 [==============================] - 1s 115ms/step - loss: 0.4337 - categorical_accuracy: 0.8142\n",
      "Epoch 145/2000\n"
     ]
    },
    {
     "name": "stdout",
     "output_type": "stream",
     "text": [
      "5/5 [==============================] - 1s 108ms/step - loss: 0.4444 - categorical_accuracy: 0.7937\n",
      "Epoch 146/2000\n",
      "5/5 [==============================] - 1s 103ms/step - loss: 0.4328 - categorical_accuracy: 0.8030\n",
      "Epoch 147/2000\n",
      "5/5 [==============================] - 1s 112ms/step - loss: 0.5169 - categorical_accuracy: 0.7100\n",
      "Epoch 148/2000\n",
      "5/5 [==============================] - 1s 112ms/step - loss: 0.4757 - categorical_accuracy: 0.7029\n",
      "Epoch 149/2000\n",
      "5/5 [==============================] - 1s 102ms/step - loss: 0.4235 - categorical_accuracy: 0.7392\n",
      "Epoch 150/2000\n",
      "5/5 [==============================] - 1s 111ms/step - loss: 0.7200 - categorical_accuracy: 0.5985\n",
      "Epoch 151/2000\n",
      "5/5 [==============================] - 1s 103ms/step - loss: 0.9159 - categorical_accuracy: 0.5744\n",
      "Epoch 152/2000\n",
      "5/5 [==============================] - 0s 97ms/step - loss: 0.6951 - categorical_accuracy: 0.7394\n",
      "Epoch 153/2000\n",
      "5/5 [==============================] - 1s 101ms/step - loss: 0.6627 - categorical_accuracy: 0.7305\n",
      "Epoch 154/2000\n",
      "5/5 [==============================] - 1s 109ms/step - loss: 0.6484 - categorical_accuracy: 0.7393\n",
      "Epoch 155/2000\n",
      "5/5 [==============================] - 1s 111ms/step - loss: 1.2463 - categorical_accuracy: 0.7047\n",
      "Epoch 156/2000\n",
      "5/5 [==============================] - 1s 113ms/step - loss: 0.7204 - categorical_accuracy: 0.6407\n",
      "Epoch 157/2000\n",
      "5/5 [==============================] - 1s 119ms/step - loss: 0.8246 - categorical_accuracy: 0.6263\n",
      "Epoch 158/2000\n",
      "5/5 [==============================] - 0s 99ms/step - loss: 0.8598 - categorical_accuracy: 0.6924\n",
      "Epoch 159/2000\n",
      "5/5 [==============================] - 0s 98ms/step - loss: 0.7344 - categorical_accuracy: 0.7150\n",
      "Epoch 160/2000\n",
      "5/5 [==============================] - 1s 116ms/step - loss: 0.6439 - categorical_accuracy: 0.6999\n",
      "Epoch 161/2000\n",
      "5/5 [==============================] - 1s 100ms/step - loss: 0.8437 - categorical_accuracy: 0.6712\n",
      "Epoch 162/2000\n",
      "5/5 [==============================] - 0s 99ms/step - loss: 0.6389 - categorical_accuracy: 0.6590\n",
      "Epoch 163/2000\n",
      "5/5 [==============================] - 1s 106ms/step - loss: 0.6270 - categorical_accuracy: 0.7019\n",
      "Epoch 164/2000\n",
      "5/5 [==============================] - 1s 114ms/step - loss: 0.5585 - categorical_accuracy: 0.7386\n",
      "Epoch 165/2000\n",
      "5/5 [==============================] - 1s 100ms/step - loss: 0.6086 - categorical_accuracy: 0.7274\n",
      "Epoch 166/2000\n",
      "5/5 [==============================] - 1s 117ms/step - loss: 0.6415 - categorical_accuracy: 0.7162\n",
      "Epoch 167/2000\n",
      "5/5 [==============================] - 1s 106ms/step - loss: 0.5833 - categorical_accuracy: 0.7528\n",
      "Epoch 168/2000\n",
      "5/5 [==============================] - 1s 104ms/step - loss: 0.5171 - categorical_accuracy: 0.7949\n",
      "Epoch 169/2000\n",
      "5/5 [==============================] - 1s 108ms/step - loss: 0.5743 - categorical_accuracy: 0.7390\n",
      "Epoch 170/2000\n",
      "5/5 [==============================] - 1s 110ms/step - loss: 0.5897 - categorical_accuracy: 0.7039\n",
      "Epoch 171/2000\n",
      "5/5 [==============================] - 1s 112ms/step - loss: 1.3365 - categorical_accuracy: 0.7130\n",
      "Epoch 172/2000\n",
      "5/5 [==============================] - 1s 109ms/step - loss: 0.5665 - categorical_accuracy: 0.7006\n",
      "Epoch 173/2000\n",
      "5/5 [==============================] - 1s 111ms/step - loss: 0.5244 - categorical_accuracy: 0.7587\n",
      "Epoch 174/2000\n",
      "5/5 [==============================] - 1s 109ms/step - loss: 0.4958 - categorical_accuracy: 0.7863\n",
      "Epoch 175/2000\n",
      "5/5 [==============================] - 1s 111ms/step - loss: 0.4898 - categorical_accuracy: 0.7810\n",
      "Epoch 176/2000\n",
      "5/5 [==============================] - 1s 103ms/step - loss: 0.4860 - categorical_accuracy: 0.8080\n",
      "Epoch 177/2000\n",
      "5/5 [==============================] - 1s 109ms/step - loss: 0.4915 - categorical_accuracy: 0.7798\n",
      "Epoch 178/2000\n",
      "5/5 [==============================] - 1s 110ms/step - loss: 0.4328 - categorical_accuracy: 0.8262\n",
      "Epoch 179/2000\n",
      "5/5 [==============================] - 1s 99ms/step - loss: 0.4541 - categorical_accuracy: 0.8015\n",
      "Epoch 180/2000\n",
      "5/5 [==============================] - 1s 121ms/step - loss: 0.4998 - categorical_accuracy: 0.8016\n",
      "Epoch 181/2000\n",
      "5/5 [==============================] - 1s 106ms/step - loss: 0.4627 - categorical_accuracy: 0.7520\n",
      "Epoch 182/2000\n",
      "5/5 [==============================] - 1s 110ms/step - loss: 0.4120 - categorical_accuracy: 0.7942\n",
      "Epoch 183/2000\n",
      "5/5 [==============================] - 1s 111ms/step - loss: 0.3685 - categorical_accuracy: 0.7981\n",
      "Epoch 184/2000\n",
      "5/5 [==============================] - 1s 101ms/step - loss: 0.3535 - categorical_accuracy: 0.8335\n",
      "Epoch 185/2000\n",
      "5/5 [==============================] - 1s 110ms/step - loss: 0.3568 - categorical_accuracy: 0.8341\n",
      "Epoch 186/2000\n",
      "5/5 [==============================] - 1s 108ms/step - loss: 0.4770 - categorical_accuracy: 0.8094\n",
      "Epoch 187/2000\n",
      "5/5 [==============================] - 1s 107ms/step - loss: 0.3214 - categorical_accuracy: 0.8646\n",
      "Epoch 188/2000\n",
      "5/5 [==============================] - 1s 112ms/step - loss: 0.3722 - categorical_accuracy: 0.8358\n",
      "Epoch 189/2000\n",
      "5/5 [==============================] - 1s 101ms/step - loss: 0.3561 - categorical_accuracy: 0.8349\n",
      "Epoch 190/2000\n",
      "5/5 [==============================] - 1s 109ms/step - loss: 0.3515 - categorical_accuracy: 0.8775\n",
      "Epoch 191/2000\n",
      "5/5 [==============================] - 1s 112ms/step - loss: 0.3402 - categorical_accuracy: 0.8160\n",
      "Epoch 192/2000\n",
      "5/5 [==============================] - 1s 111ms/step - loss: 0.3420 - categorical_accuracy: 0.8363\n",
      "Epoch 193/2000\n",
      "5/5 [==============================] - 1s 112ms/step - loss: 0.3266 - categorical_accuracy: 0.8422\n",
      "Epoch 194/2000\n",
      "5/5 [==============================] - 1s 112ms/step - loss: 0.2961 - categorical_accuracy: 0.8834\n",
      "Epoch 195/2000\n",
      "5/5 [==============================] - 1s 107ms/step - loss: 0.3209 - categorical_accuracy: 0.8774\n",
      "Epoch 196/2000\n",
      "5/5 [==============================] - 1s 109ms/step - loss: 0.2674 - categorical_accuracy: 0.8778\n",
      "Epoch 197/2000\n",
      "5/5 [==============================] - 1s 111ms/step - loss: 0.2543 - categorical_accuracy: 0.8741\n",
      "Epoch 198/2000\n",
      "5/5 [==============================] - 1s 112ms/step - loss: 0.2715 - categorical_accuracy: 0.8834\n",
      "Epoch 199/2000\n",
      "5/5 [==============================] - 1s 121ms/step - loss: 0.3298 - categorical_accuracy: 0.8165\n",
      "Epoch 200/2000\n",
      "5/5 [==============================] - 1s 112ms/step - loss: 0.3705 - categorical_accuracy: 0.8372\n",
      "Epoch 201/2000\n",
      "5/5 [==============================] - 1s 110ms/step - loss: 0.3834 - categorical_accuracy: 0.8370\n",
      "Epoch 202/2000\n",
      "5/5 [==============================] - 1s 114ms/step - loss: 0.3208 - categorical_accuracy: 0.8686\n",
      "Epoch 203/2000\n",
      "5/5 [==============================] - 1s 109ms/step - loss: 0.2725 - categorical_accuracy: 0.8704\n",
      "Epoch 204/2000\n",
      "5/5 [==============================] - 1s 113ms/step - loss: 0.2986 - categorical_accuracy: 0.8378\n",
      "Epoch 205/2000\n",
      "5/5 [==============================] - 1s 112ms/step - loss: 0.3776 - categorical_accuracy: 0.8352\n",
      "Epoch 206/2000\n",
      "5/5 [==============================] - 1s 115ms/step - loss: 0.3679 - categorical_accuracy: 0.8120\n",
      "Epoch 207/2000\n",
      "5/5 [==============================] - 1s 112ms/step - loss: 0.5088 - categorical_accuracy: 0.7476\n",
      "Epoch 208/2000\n",
      "5/5 [==============================] - 1s 111ms/step - loss: 0.2973 - categorical_accuracy: 0.8875\n",
      "Epoch 209/2000\n",
      "5/5 [==============================] - 1s 113ms/step - loss: 0.3137 - categorical_accuracy: 0.8488\n",
      "Epoch 210/2000\n",
      "5/5 [==============================] - 0s 98ms/step - loss: 0.3053 - categorical_accuracy: 0.8630\n",
      "Epoch 211/2000\n",
      "5/5 [==============================] - 0s 97ms/step - loss: 0.3073 - categorical_accuracy: 0.8452\n",
      "Epoch 212/2000\n",
      "5/5 [==============================] - 0s 97ms/step - loss: 0.2979 - categorical_accuracy: 0.8535\n",
      "Epoch 213/2000\n",
      "5/5 [==============================] - 1s 100ms/step - loss: 0.2768 - categorical_accuracy: 0.8580\n",
      "Epoch 214/2000\n",
      "5/5 [==============================] - 1s 101ms/step - loss: 0.2968 - categorical_accuracy: 0.8677\n",
      "Epoch 215/2000\n",
      "5/5 [==============================] - 1s 113ms/step - loss: 0.3171 - categorical_accuracy: 0.8454\n",
      "Epoch 216/2000\n",
      "5/5 [==============================] - 1s 113ms/step - loss: 0.2834 - categorical_accuracy: 0.8691\n",
      "Epoch 217/2000\n"
     ]
    },
    {
     "name": "stdout",
     "output_type": "stream",
     "text": [
      "5/5 [==============================] - 1s 110ms/step - loss: 0.2453 - categorical_accuracy: 0.9049\n",
      "Epoch 218/2000\n",
      "5/5 [==============================] - 1s 109ms/step - loss: 0.2706 - categorical_accuracy: 0.8697\n",
      "Epoch 219/2000\n",
      "5/5 [==============================] - 1s 110ms/step - loss: 0.2445 - categorical_accuracy: 0.8850\n",
      "Epoch 220/2000\n",
      "5/5 [==============================] - 1s 116ms/step - loss: 0.2836 - categorical_accuracy: 0.8711\n",
      "Epoch 221/2000\n",
      "5/5 [==============================] - 1s 102ms/step - loss: 0.2339 - categorical_accuracy: 0.8995\n",
      "Epoch 222/2000\n",
      "5/5 [==============================] - 1s 106ms/step - loss: 0.3057 - categorical_accuracy: 0.8021\n",
      "Epoch 223/2000\n",
      "5/5 [==============================] - 1s 99ms/step - loss: 0.3310 - categorical_accuracy: 0.8412\n",
      "Epoch 224/2000\n",
      "4/5 [=======================>......] - ETA: 0s - loss: 0.2783 - categorical_accuracy: 0.8978"
     ]
    },
    {
     "ename": "KeyboardInterrupt",
     "evalue": "",
     "output_type": "error",
     "traceback": [
      "\u001b[1;31m---------------------------------------------------------------------------\u001b[0m",
      "\u001b[1;31mKeyboardInterrupt\u001b[0m                         Traceback (most recent call last)",
      "\u001b[1;32m<ipython-input-28-610fed43f9e2>\u001b[0m in \u001b[0;36m<module>\u001b[1;34m\u001b[0m\n\u001b[1;32m----> 1\u001b[1;33m \u001b[0mmodel\u001b[0m\u001b[1;33m.\u001b[0m\u001b[0mfit\u001b[0m\u001b[1;33m(\u001b[0m\u001b[0mX_train\u001b[0m\u001b[1;33m,\u001b[0m \u001b[0my_train\u001b[0m\u001b[1;33m,\u001b[0m \u001b[0mepochs\u001b[0m\u001b[1;33m=\u001b[0m\u001b[1;36m2000\u001b[0m\u001b[1;33m,\u001b[0m \u001b[0mcallbacks\u001b[0m\u001b[1;33m=\u001b[0m\u001b[1;33m[\u001b[0m\u001b[0mtb_callback\u001b[0m\u001b[1;33m]\u001b[0m\u001b[1;33m)\u001b[0m\u001b[1;33m\u001b[0m\u001b[1;33m\u001b[0m\u001b[0m\n\u001b[0m",
      "\u001b[1;32m~\\anaconda3\\lib\\site-packages\\tensorflow\\python\\keras\\engine\\training.py\u001b[0m in \u001b[0;36mfit\u001b[1;34m(self, x, y, batch_size, epochs, verbose, callbacks, validation_split, validation_data, shuffle, class_weight, sample_weight, initial_epoch, steps_per_epoch, validation_steps, validation_batch_size, validation_freq, max_queue_size, workers, use_multiprocessing)\u001b[0m\n\u001b[0;32m   1098\u001b[0m                 _r=1):\n\u001b[0;32m   1099\u001b[0m               \u001b[0mcallbacks\u001b[0m\u001b[1;33m.\u001b[0m\u001b[0mon_train_batch_begin\u001b[0m\u001b[1;33m(\u001b[0m\u001b[0mstep\u001b[0m\u001b[1;33m)\u001b[0m\u001b[1;33m\u001b[0m\u001b[1;33m\u001b[0m\u001b[0m\n\u001b[1;32m-> 1100\u001b[1;33m               \u001b[0mtmp_logs\u001b[0m \u001b[1;33m=\u001b[0m \u001b[0mself\u001b[0m\u001b[1;33m.\u001b[0m\u001b[0mtrain_function\u001b[0m\u001b[1;33m(\u001b[0m\u001b[0miterator\u001b[0m\u001b[1;33m)\u001b[0m\u001b[1;33m\u001b[0m\u001b[1;33m\u001b[0m\u001b[0m\n\u001b[0m\u001b[0;32m   1101\u001b[0m               \u001b[1;32mif\u001b[0m \u001b[0mdata_handler\u001b[0m\u001b[1;33m.\u001b[0m\u001b[0mshould_sync\u001b[0m\u001b[1;33m:\u001b[0m\u001b[1;33m\u001b[0m\u001b[1;33m\u001b[0m\u001b[0m\n\u001b[0;32m   1102\u001b[0m                 \u001b[0mcontext\u001b[0m\u001b[1;33m.\u001b[0m\u001b[0masync_wait\u001b[0m\u001b[1;33m(\u001b[0m\u001b[1;33m)\u001b[0m\u001b[1;33m\u001b[0m\u001b[1;33m\u001b[0m\u001b[0m\n",
      "\u001b[1;32m~\\anaconda3\\lib\\site-packages\\tensorflow\\python\\eager\\def_function.py\u001b[0m in \u001b[0;36m__call__\u001b[1;34m(self, *args, **kwds)\u001b[0m\n\u001b[0;32m    826\u001b[0m     \u001b[0mtracing_count\u001b[0m \u001b[1;33m=\u001b[0m \u001b[0mself\u001b[0m\u001b[1;33m.\u001b[0m\u001b[0mexperimental_get_tracing_count\u001b[0m\u001b[1;33m(\u001b[0m\u001b[1;33m)\u001b[0m\u001b[1;33m\u001b[0m\u001b[1;33m\u001b[0m\u001b[0m\n\u001b[0;32m    827\u001b[0m     \u001b[1;32mwith\u001b[0m \u001b[0mtrace\u001b[0m\u001b[1;33m.\u001b[0m\u001b[0mTrace\u001b[0m\u001b[1;33m(\u001b[0m\u001b[0mself\u001b[0m\u001b[1;33m.\u001b[0m\u001b[0m_name\u001b[0m\u001b[1;33m)\u001b[0m \u001b[1;32mas\u001b[0m \u001b[0mtm\u001b[0m\u001b[1;33m:\u001b[0m\u001b[1;33m\u001b[0m\u001b[1;33m\u001b[0m\u001b[0m\n\u001b[1;32m--> 828\u001b[1;33m       \u001b[0mresult\u001b[0m \u001b[1;33m=\u001b[0m \u001b[0mself\u001b[0m\u001b[1;33m.\u001b[0m\u001b[0m_call\u001b[0m\u001b[1;33m(\u001b[0m\u001b[1;33m*\u001b[0m\u001b[0margs\u001b[0m\u001b[1;33m,\u001b[0m \u001b[1;33m**\u001b[0m\u001b[0mkwds\u001b[0m\u001b[1;33m)\u001b[0m\u001b[1;33m\u001b[0m\u001b[1;33m\u001b[0m\u001b[0m\n\u001b[0m\u001b[0;32m    829\u001b[0m       \u001b[0mcompiler\u001b[0m \u001b[1;33m=\u001b[0m \u001b[1;34m\"xla\"\u001b[0m \u001b[1;32mif\u001b[0m \u001b[0mself\u001b[0m\u001b[1;33m.\u001b[0m\u001b[0m_experimental_compile\u001b[0m \u001b[1;32melse\u001b[0m \u001b[1;34m\"nonXla\"\u001b[0m\u001b[1;33m\u001b[0m\u001b[1;33m\u001b[0m\u001b[0m\n\u001b[0;32m    830\u001b[0m       \u001b[0mnew_tracing_count\u001b[0m \u001b[1;33m=\u001b[0m \u001b[0mself\u001b[0m\u001b[1;33m.\u001b[0m\u001b[0mexperimental_get_tracing_count\u001b[0m\u001b[1;33m(\u001b[0m\u001b[1;33m)\u001b[0m\u001b[1;33m\u001b[0m\u001b[1;33m\u001b[0m\u001b[0m\n",
      "\u001b[1;32m~\\anaconda3\\lib\\site-packages\\tensorflow\\python\\eager\\def_function.py\u001b[0m in \u001b[0;36m_call\u001b[1;34m(self, *args, **kwds)\u001b[0m\n\u001b[0;32m    853\u001b[0m       \u001b[1;31m# In this case we have created variables on the first call, so we run the\u001b[0m\u001b[1;33m\u001b[0m\u001b[1;33m\u001b[0m\u001b[1;33m\u001b[0m\u001b[0m\n\u001b[0;32m    854\u001b[0m       \u001b[1;31m# defunned version which is guaranteed to never create variables.\u001b[0m\u001b[1;33m\u001b[0m\u001b[1;33m\u001b[0m\u001b[1;33m\u001b[0m\u001b[0m\n\u001b[1;32m--> 855\u001b[1;33m       \u001b[1;32mreturn\u001b[0m \u001b[0mself\u001b[0m\u001b[1;33m.\u001b[0m\u001b[0m_stateless_fn\u001b[0m\u001b[1;33m(\u001b[0m\u001b[1;33m*\u001b[0m\u001b[0margs\u001b[0m\u001b[1;33m,\u001b[0m \u001b[1;33m**\u001b[0m\u001b[0mkwds\u001b[0m\u001b[1;33m)\u001b[0m  \u001b[1;31m# pylint: disable=not-callable\u001b[0m\u001b[1;33m\u001b[0m\u001b[1;33m\u001b[0m\u001b[0m\n\u001b[0m\u001b[0;32m    856\u001b[0m     \u001b[1;32melif\u001b[0m \u001b[0mself\u001b[0m\u001b[1;33m.\u001b[0m\u001b[0m_stateful_fn\u001b[0m \u001b[1;32mis\u001b[0m \u001b[1;32mnot\u001b[0m \u001b[1;32mNone\u001b[0m\u001b[1;33m:\u001b[0m\u001b[1;33m\u001b[0m\u001b[1;33m\u001b[0m\u001b[0m\n\u001b[0;32m    857\u001b[0m       \u001b[1;31m# Release the lock early so that multiple threads can perform the call\u001b[0m\u001b[1;33m\u001b[0m\u001b[1;33m\u001b[0m\u001b[1;33m\u001b[0m\u001b[0m\n",
      "\u001b[1;32m~\\anaconda3\\lib\\site-packages\\tensorflow\\python\\eager\\function.py\u001b[0m in \u001b[0;36m__call__\u001b[1;34m(self, *args, **kwargs)\u001b[0m\n\u001b[0;32m   2940\u001b[0m       (graph_function,\n\u001b[0;32m   2941\u001b[0m        filtered_flat_args) = self._maybe_define_function(args, kwargs)\n\u001b[1;32m-> 2942\u001b[1;33m     return graph_function._call_flat(\n\u001b[0m\u001b[0;32m   2943\u001b[0m         filtered_flat_args, captured_inputs=graph_function.captured_inputs)  # pylint: disable=protected-access\n\u001b[0;32m   2944\u001b[0m \u001b[1;33m\u001b[0m\u001b[0m\n",
      "\u001b[1;32m~\\anaconda3\\lib\\site-packages\\tensorflow\\python\\eager\\function.py\u001b[0m in \u001b[0;36m_call_flat\u001b[1;34m(self, args, captured_inputs, cancellation_manager)\u001b[0m\n\u001b[0;32m   1916\u001b[0m         and executing_eagerly):\n\u001b[0;32m   1917\u001b[0m       \u001b[1;31m# No tape is watching; skip to running the function.\u001b[0m\u001b[1;33m\u001b[0m\u001b[1;33m\u001b[0m\u001b[1;33m\u001b[0m\u001b[0m\n\u001b[1;32m-> 1918\u001b[1;33m       return self._build_call_outputs(self._inference_function.call(\n\u001b[0m\u001b[0;32m   1919\u001b[0m           ctx, args, cancellation_manager=cancellation_manager))\n\u001b[0;32m   1920\u001b[0m     forward_backward = self._select_forward_and_backward_functions(\n",
      "\u001b[1;32m~\\anaconda3\\lib\\site-packages\\tensorflow\\python\\eager\\function.py\u001b[0m in \u001b[0;36mcall\u001b[1;34m(self, ctx, args, cancellation_manager)\u001b[0m\n\u001b[0;32m    553\u001b[0m       \u001b[1;32mwith\u001b[0m \u001b[0m_InterpolateFunctionError\u001b[0m\u001b[1;33m(\u001b[0m\u001b[0mself\u001b[0m\u001b[1;33m)\u001b[0m\u001b[1;33m:\u001b[0m\u001b[1;33m\u001b[0m\u001b[1;33m\u001b[0m\u001b[0m\n\u001b[0;32m    554\u001b[0m         \u001b[1;32mif\u001b[0m \u001b[0mcancellation_manager\u001b[0m \u001b[1;32mis\u001b[0m \u001b[1;32mNone\u001b[0m\u001b[1;33m:\u001b[0m\u001b[1;33m\u001b[0m\u001b[1;33m\u001b[0m\u001b[0m\n\u001b[1;32m--> 555\u001b[1;33m           outputs = execute.execute(\n\u001b[0m\u001b[0;32m    556\u001b[0m               \u001b[0mstr\u001b[0m\u001b[1;33m(\u001b[0m\u001b[0mself\u001b[0m\u001b[1;33m.\u001b[0m\u001b[0msignature\u001b[0m\u001b[1;33m.\u001b[0m\u001b[0mname\u001b[0m\u001b[1;33m)\u001b[0m\u001b[1;33m,\u001b[0m\u001b[1;33m\u001b[0m\u001b[1;33m\u001b[0m\u001b[0m\n\u001b[0;32m    557\u001b[0m               \u001b[0mnum_outputs\u001b[0m\u001b[1;33m=\u001b[0m\u001b[0mself\u001b[0m\u001b[1;33m.\u001b[0m\u001b[0m_num_outputs\u001b[0m\u001b[1;33m,\u001b[0m\u001b[1;33m\u001b[0m\u001b[1;33m\u001b[0m\u001b[0m\n",
      "\u001b[1;32m~\\anaconda3\\lib\\site-packages\\tensorflow\\python\\eager\\execute.py\u001b[0m in \u001b[0;36mquick_execute\u001b[1;34m(op_name, num_outputs, inputs, attrs, ctx, name)\u001b[0m\n\u001b[0;32m     57\u001b[0m   \u001b[1;32mtry\u001b[0m\u001b[1;33m:\u001b[0m\u001b[1;33m\u001b[0m\u001b[1;33m\u001b[0m\u001b[0m\n\u001b[0;32m     58\u001b[0m     \u001b[0mctx\u001b[0m\u001b[1;33m.\u001b[0m\u001b[0mensure_initialized\u001b[0m\u001b[1;33m(\u001b[0m\u001b[1;33m)\u001b[0m\u001b[1;33m\u001b[0m\u001b[1;33m\u001b[0m\u001b[0m\n\u001b[1;32m---> 59\u001b[1;33m     tensors = pywrap_tfe.TFE_Py_Execute(ctx._handle, device_name, op_name,\n\u001b[0m\u001b[0;32m     60\u001b[0m                                         inputs, attrs, num_outputs)\n\u001b[0;32m     61\u001b[0m   \u001b[1;32mexcept\u001b[0m \u001b[0mcore\u001b[0m\u001b[1;33m.\u001b[0m\u001b[0m_NotOkStatusException\u001b[0m \u001b[1;32mas\u001b[0m \u001b[0me\u001b[0m\u001b[1;33m:\u001b[0m\u001b[1;33m\u001b[0m\u001b[1;33m\u001b[0m\u001b[0m\n",
      "\u001b[1;31mKeyboardInterrupt\u001b[0m: "
     ]
    }
   ],
   "source": [
    "model.fit(X_train, y_train, epochs=2000, callbacks=[tb_callback])"
   ]
  },
  {
   "cell_type": "code",
   "execution_count": 18,
   "metadata": {
    "scrolled": false
   },
   "outputs": [
    {
     "name": "stdout",
     "output_type": "stream",
     "text": [
      "Model: \"sequential\"\n",
      "_________________________________________________________________\n",
      " Layer (type)                Output Shape              Param #   \n",
      "=================================================================\n",
      " lstm (LSTM)                 (None, 30, 64)            442112    \n",
      "                                                                 \n",
      " lstm_1 (LSTM)               (None, 30, 128)           98816     \n",
      "                                                                 \n",
      " lstm_2 (LSTM)               (None, 64)                49408     \n",
      "                                                                 \n",
      " dense (Dense)               (None, 64)                4160      \n",
      "                                                                 \n",
      " dense_1 (Dense)             (None, 32)                2080      \n",
      "                                                                 \n",
      "=================================================================\n",
      "Total params: 596,576\n",
      "Trainable params: 596,576\n",
      "Non-trainable params: 0\n",
      "_________________________________________________________________\n"
     ]
    }
   ],
   "source": [
    "model.summary()"
   ]
  },
  {
   "cell_type": "markdown",
   "metadata": {},
   "source": [
    "# 8. Make Predictions"
   ]
  },
  {
   "cell_type": "code",
   "execution_count": 33,
   "metadata": {},
   "outputs": [],
   "source": [
    "res = model.predict(X_test)"
   ]
  },
  {
   "cell_type": "code",
   "execution_count": null,
   "metadata": {},
   "outputs": [],
   "source": [
    "actions[np.argmax(res[3])]"
   ]
  },
  {
   "cell_type": "code",
   "execution_count": null,
   "metadata": {},
   "outputs": [],
   "source": [
    "actions[np.argmax(y_test[3])]"
   ]
  },
  {
   "cell_type": "markdown",
   "metadata": {},
   "source": [
    "# 9. Save Weights"
   ]
  },
  {
   "cell_type": "code",
   "execution_count": 35,
   "metadata": {},
   "outputs": [],
   "source": [
    "model.save('action55.h5')"
   ]
  },
  {
   "cell_type": "code",
   "execution_count": 85,
   "metadata": {},
   "outputs": [],
   "source": [
    "del model"
   ]
  },
  {
   "cell_type": "code",
   "execution_count": 36,
   "metadata": {},
   "outputs": [],
   "source": [
    "model.load_weights('action55.h5')"
   ]
  },
  {
   "cell_type": "markdown",
   "metadata": {},
   "source": [
    "# 10. Evaluation using Confusion Matrix and Accuracy"
   ]
  },
  {
   "cell_type": "code",
   "execution_count": 37,
   "metadata": {},
   "outputs": [],
   "source": [
    "from sklearn.metrics import multilabel_confusion_matrix, accuracy_score"
   ]
  },
  {
   "cell_type": "code",
   "execution_count": 38,
   "metadata": {},
   "outputs": [],
   "source": [
    "yhat = model.predict(X_test)"
   ]
  },
  {
   "cell_type": "code",
   "execution_count": 39,
   "metadata": {},
   "outputs": [],
   "source": [
    "ytrue = np.argmax(y_test, axis=1).tolist()\n",
    "yhat = np.argmax(yhat, axis=1).tolist()"
   ]
  },
  {
   "cell_type": "code",
   "execution_count": 40,
   "metadata": {},
   "outputs": [
    {
     "data": {
      "text/plain": [
       "array([[[3, 0],\n",
       "        [0, 5]],\n",
       "\n",
       "       [[7, 1],\n",
       "        [0, 0]],\n",
       "\n",
       "       [[5, 0],\n",
       "        [1, 2]]], dtype=int64)"
      ]
     },
     "execution_count": 40,
     "metadata": {},
     "output_type": "execute_result"
    }
   ],
   "source": [
    "multilabel_confusion_matrix(ytrue, yhat)"
   ]
  },
  {
   "cell_type": "code",
   "execution_count": 41,
   "metadata": {},
   "outputs": [
    {
     "data": {
      "text/plain": [
       "0.875"
      ]
     },
     "execution_count": 41,
     "metadata": {},
     "output_type": "execute_result"
    }
   ],
   "source": [
    "accuracy_score(ytrue, yhat)"
   ]
  },
  {
   "cell_type": "markdown",
   "metadata": {},
   "source": [
    "# 11. Test in Real Time"
   ]
  },
  {
   "cell_type": "code",
   "execution_count": 34,
   "metadata": {},
   "outputs": [],
   "source": [
    "from scipy import stats"
   ]
  },
  {
   "cell_type": "code",
   "execution_count": 35,
   "metadata": {},
   "outputs": [],
   "source": [
    "colors = [(245,117,16), (117,245,16), (16,117,245)]\n",
    "def prob_viz(res, actions, input_frame, colors):\n",
    "    output_frame = input_frame.copy()\n",
    "    for num, prob in enumerate(res):\n",
    "        cv2.rectangle(output_frame, (0,60+num*40), (int(prob*100), 90+num*40), colors[num], -1)\n",
    "        cv2.putText(output_frame, actions[num], (0, 85+num*40), cv2.FONT_HERSHEY_SIMPLEX, 1, (255,255,255), 2, cv2.LINE_AA)\n",
    "        \n",
    "    return output_frame"
   ]
  },
  {
   "cell_type": "code",
   "execution_count": 36,
   "metadata": {},
   "outputs": [
    {
     "name": "stdout",
     "output_type": "stream",
     "text": [
      "<class 'mediapipe.python.solution_base.SolutionOutputs'>\n",
      "<class 'mediapipe.python.solution_base.SolutionOutputs'>\n",
      "<class 'mediapipe.python.solution_base.SolutionOutputs'>\n",
      "<class 'mediapipe.python.solution_base.SolutionOutputs'>\n",
      "<class 'mediapipe.python.solution_base.SolutionOutputs'>\n",
      "<class 'mediapipe.python.solution_base.SolutionOutputs'>\n",
      "<class 'mediapipe.python.solution_base.SolutionOutputs'>\n",
      "<class 'mediapipe.python.solution_base.SolutionOutputs'>\n",
      "<class 'mediapipe.python.solution_base.SolutionOutputs'>\n",
      "<class 'mediapipe.python.solution_base.SolutionOutputs'>\n",
      "<class 'mediapipe.python.solution_base.SolutionOutputs'>\n",
      "<class 'mediapipe.python.solution_base.SolutionOutputs'>\n",
      "<class 'mediapipe.python.solution_base.SolutionOutputs'>\n",
      "<class 'mediapipe.python.solution_base.SolutionOutputs'>\n",
      "<class 'mediapipe.python.solution_base.SolutionOutputs'>\n",
      "<class 'mediapipe.python.solution_base.SolutionOutputs'>\n",
      "<class 'mediapipe.python.solution_base.SolutionOutputs'>\n",
      "<class 'mediapipe.python.solution_base.SolutionOutputs'>\n",
      "<class 'mediapipe.python.solution_base.SolutionOutputs'>\n",
      "<class 'mediapipe.python.solution_base.SolutionOutputs'>\n",
      "<class 'mediapipe.python.solution_base.SolutionOutputs'>\n",
      "<class 'mediapipe.python.solution_base.SolutionOutputs'>\n",
      "<class 'mediapipe.python.solution_base.SolutionOutputs'>\n",
      "<class 'mediapipe.python.solution_base.SolutionOutputs'>\n",
      "<class 'mediapipe.python.solution_base.SolutionOutputs'>\n",
      "<class 'mediapipe.python.solution_base.SolutionOutputs'>\n",
      "<class 'mediapipe.python.solution_base.SolutionOutputs'>\n",
      "<class 'mediapipe.python.solution_base.SolutionOutputs'>\n",
      "<class 'mediapipe.python.solution_base.SolutionOutputs'>\n",
      "<class 'mediapipe.python.solution_base.SolutionOutputs'>\n",
      "see\n",
      "<class 'mediapipe.python.solution_base.SolutionOutputs'>\n",
      "hello\n",
      "<class 'mediapipe.python.solution_base.SolutionOutputs'>\n",
      "hello\n",
      "<class 'mediapipe.python.solution_base.SolutionOutputs'>\n",
      "hello\n",
      "<class 'mediapipe.python.solution_base.SolutionOutputs'>\n",
      "hello\n",
      "<class 'mediapipe.python.solution_base.SolutionOutputs'>\n",
      "hello\n",
      "<class 'mediapipe.python.solution_base.SolutionOutputs'>\n",
      "hello\n",
      "<class 'mediapipe.python.solution_base.SolutionOutputs'>\n",
      "hello\n",
      "<class 'mediapipe.python.solution_base.SolutionOutputs'>\n",
      "hello\n",
      "<class 'mediapipe.python.solution_base.SolutionOutputs'>\n",
      "hello\n",
      "<class 'mediapipe.python.solution_base.SolutionOutputs'>\n",
      "hello\n",
      "<class 'mediapipe.python.solution_base.SolutionOutputs'>\n",
      "hello\n",
      "<class 'mediapipe.python.solution_base.SolutionOutputs'>\n",
      "hello\n",
      "<class 'mediapipe.python.solution_base.SolutionOutputs'>\n",
      "see\n",
      "<class 'mediapipe.python.solution_base.SolutionOutputs'>\n",
      "see\n",
      "<class 'mediapipe.python.solution_base.SolutionOutputs'>\n",
      "see\n",
      "<class 'mediapipe.python.solution_base.SolutionOutputs'>\n",
      "see\n",
      "<class 'mediapipe.python.solution_base.SolutionOutputs'>\n",
      "see\n",
      "<class 'mediapipe.python.solution_base.SolutionOutputs'>\n",
      "see\n",
      "<class 'mediapipe.python.solution_base.SolutionOutputs'>\n",
      "see\n",
      "<class 'mediapipe.python.solution_base.SolutionOutputs'>\n",
      "see\n",
      "<class 'mediapipe.python.solution_base.SolutionOutputs'>\n",
      "see\n",
      "<class 'mediapipe.python.solution_base.SolutionOutputs'>\n",
      "see\n",
      "<class 'mediapipe.python.solution_base.SolutionOutputs'>\n",
      "see\n",
      "<class 'mediapipe.python.solution_base.SolutionOutputs'>\n",
      "see\n",
      "<class 'mediapipe.python.solution_base.SolutionOutputs'>\n",
      "see\n",
      "<class 'mediapipe.python.solution_base.SolutionOutputs'>\n",
      "see\n",
      "<class 'mediapipe.python.solution_base.SolutionOutputs'>\n",
      "see\n",
      "<class 'mediapipe.python.solution_base.SolutionOutputs'>\n",
      "see\n",
      "<class 'mediapipe.python.solution_base.SolutionOutputs'>\n",
      "see\n",
      "<class 'mediapipe.python.solution_base.SolutionOutputs'>\n",
      "see\n",
      "<class 'mediapipe.python.solution_base.SolutionOutputs'>\n",
      "see\n",
      "<class 'mediapipe.python.solution_base.SolutionOutputs'>\n",
      "see\n",
      "<class 'mediapipe.python.solution_base.SolutionOutputs'>\n",
      "see\n",
      "<class 'mediapipe.python.solution_base.SolutionOutputs'>\n",
      "see\n",
      "<class 'mediapipe.python.solution_base.SolutionOutputs'>\n",
      "see\n",
      "<class 'mediapipe.python.solution_base.SolutionOutputs'>\n",
      "see\n",
      "<class 'mediapipe.python.solution_base.SolutionOutputs'>\n",
      "see\n"
     ]
    }
   ],
   "source": [
    "# 1. New detection variables\n",
    "sequence = []\n",
    "sentence = []\n",
    "predictions = []\n",
    "threshold = 0.8\n",
    "\n",
    "cap = cv2.VideoCapture(0)\n",
    "# Set mediapipe model \n",
    "with mp_holistic.Holistic(min_detection_confidence=0.8, min_tracking_confidence=0.8) as holistic:\n",
    "    while cap.isOpened():\n",
    "\n",
    "        # Read feed\n",
    "        ret, frame = cap.read()\n",
    "\n",
    "        # Make detections\n",
    "        image, results = mediapipe_detection(frame, holistic)\n",
    "        print(results)\n",
    "        \n",
    "        # Draw landmarks\n",
    "        draw_styled_landmarks(image, results)\n",
    "        \n",
    "        # 2. Prediction logic\n",
    "        keypoints = extract_keypoints(results)\n",
    "        sequence.append(keypoints)\n",
    "        sequence = sequence[-30:]\n",
    "        \n",
    "        if len(sequence) == 30:\n",
    "            res = model.predict(np.expand_dims(sequence, axis=0))[0]\n",
    "            print(actions[np.argmax(res)])\n",
    "            predictions.append(np.argmax(res))\n",
    "            \n",
    "            \n",
    "        #3. Viz logic\n",
    "            if np.unique(predictions[-10:])[0]==np.argmax(res): \n",
    "                if res[np.argmax(res)] > threshold: \n",
    "                    \n",
    "                    if len(sentence) > 0: \n",
    "                        if actions[np.argmax(res)] != sentence[-1]:\n",
    "                            sentence.append(actions[np.argmax(res)])\n",
    "                    else:\n",
    "                        sentence.append(actions[np.argmax(res)])\n",
    "\n",
    "            if len(sentence) > 5: \n",
    "                sentence = sentence[-5:]\n",
    "\n",
    "            # Viz probabilities\n",
    "#             image = prob_viz(res, actions, image, colors)\n",
    "            \n",
    "        cv2.rectangle(image, (0,0), (640, 40), (245, 117, 16), -1)\n",
    "        cv2.putText(image, ' '.join(sentence), (3,30), \n",
    "                       cv2.FONT_HERSHEY_SIMPLEX, 1, (255, 255, 255), 2, cv2.LINE_AA)\n",
    "        \n",
    "        # Show to screen\n",
    "        cv2.imshow('OpenCV Feed', image)\n",
    "\n",
    "        # Break gracefully\n",
    "        if cv2.waitKey(10) & 0xFF == ord('q'):\n",
    "            break\n",
    "    cap.release()\n",
    "    cv2.destroyAllWindows()"
   ]
  },
  {
   "cell_type": "code",
   "execution_count": 59,
   "metadata": {},
   "outputs": [
    {
     "name": "stdout",
     "output_type": "stream",
     "text": [
      "INFO:tensorflow:Assets written to: C:\\Users\\user\\AppData\\Local\\Temp\\tmpxyli4vbp\\assets\n"
     ]
    },
    {
     "data": {
      "text/plain": [
       "2419248"
      ]
     },
     "execution_count": 59,
     "metadata": {},
     "output_type": "execute_result"
    }
   ],
   "source": [
    "import tensorflow as tf\n",
    "model = tf.keras.models.load_model('action3.h5')\n",
    "converter = tf.lite.TFLiteConverter.from_keras_model(model)\n",
    "tflmodel = converter.convert()\n",
    "file = open( 'action.tflite' , 'wb' ) \n",
    "file.write( tflmodel )"
   ]
  },
  {
   "cell_type": "code",
   "execution_count": null,
   "metadata": {},
   "outputs": [],
   "source": []
  },
  {
   "cell_type": "code",
   "execution_count": null,
   "metadata": {},
   "outputs": [],
   "source": []
  }
 ],
 "metadata": {
  "interpreter": {
   "hash": "e134e05457d34029b6460cd73bbf1ed73f339b5b6d98c95be70b69eba114fe95"
  },
  "kernelspec": {
   "display_name": "Python 3",
   "language": "python",
   "name": "python3"
  },
  "language_info": {
   "codemirror_mode": {
    "name": "ipython",
    "version": 3
   },
   "file_extension": ".py",
   "mimetype": "text/x-python",
   "name": "python",
   "nbconvert_exporter": "python",
   "pygments_lexer": "ipython3",
   "version": "3.8.8"
  }
 },
 "nbformat": 4,
 "nbformat_minor": 2
}
